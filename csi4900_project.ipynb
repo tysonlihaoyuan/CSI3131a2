{
  "nbformat": 4,
  "nbformat_minor": 0,
  "metadata": {
    "colab": {
      "name": "csi4900-project.ipynb",
      "provenance": [],
      "include_colab_link": true
    },
    "kernelspec": {
      "name": "python3",
      "display_name": "Python 3"
    },
    "accelerator": "GPU"
  },
  "cells": [
    {
      "cell_type": "markdown",
      "metadata": {
        "id": "view-in-github",
        "colab_type": "text"
      },
      "source": [
        "<a href=\"https://colab.research.google.com/github/tysonlihaoyuan/CSI3131a2/blob/master/csi4900_project.ipynb\" target=\"_parent\"><img src=\"https://colab.research.google.com/assets/colab-badge.svg\" alt=\"Open In Colab\"/></a>"
      ]
    },
    {
      "cell_type": "markdown",
      "metadata": {
        "id": "VgiNjz5pav0V",
        "colab_type": "text"
      },
      "source": [
        "Data description：\n",
        "\n",
        "    N = number of participants\n",
        "\t\tN = 100\n",
        "\n",
        "    P = number of data points in the brain\n",
        "\t\tP = 100,000"
      ]
    },
    {
      "cell_type": "code",
      "metadata": {
        "id": "YLXJJh7rZW7u",
        "colab_type": "code",
        "outputId": "b2517c7e-5015-4af0-9f51-85756d7142fb",
        "colab": {
          "base_uri": "https://localhost:8080/",
          "height": 34
        }
      },
      "source": [
        "'''\n",
        "Mi = b0 + Age*b1\n",
        "given the parameter \n",
        "Mi --> (N*P) --> brain data, size\n",
        "Age -->(N*1) --> vector of ages\n",
        "b0 -->(1*P)  --> parameter estimate of the constant term in the regression model\n",
        "b1 -->(1*P)  --> parameter estimate for the predictor Age\n",
        "\n",
        "  N * P                            n*1\n",
        "[x,x,x,x,...             1*P       [a        1*P\n",
        " x,x,x,x,...   == [b,b,b,b,b,b...]+ a   * [b1,b1,b1....]\n",
        " x,x,x,x,...]                       a]\n",
        "'''\n",
        "\n",
        "'''\n",
        "function array_generate_helper (n)\n",
        "paramater: n (integer) --> generate number of n \n",
        "return : an array with the length of n\n",
        "'''\n",
        "import random\n",
        "def array_generate_helper(n):\n",
        "  array = []\n",
        "  for i in range (0,n):\n",
        "    value = random.random()*10\n",
        "    array.append(value)\n",
        "  return array\n",
        "  \n",
        "# a = array_generate_helper(10)\n",
        "# print(a)\n",
        "\n",
        "'''\n",
        "function multiple_array:\n",
        "paramater: N(double) --> array with size 100\n",
        "paramater: P(Double) --> array with size 1000\n",
        "return a N*P matrix --> 2d list\n",
        "'''\n",
        "def multiple_array (N , P):\n",
        "  nPerson_array = array_generate_helper(N)\n",
        "  nBrain_array  = array_generate_helper(P)\n",
        "  #ini a empty 2d list respect to N*P\n",
        "  result =  [[0 for i in range(P)] for j in range(N)]\n",
        "  for i in range (0,N):\n",
        "    for j in range(0,P):\n",
        "      temp = nPerson_array[i]*nBrain_array[j]\n",
        "      result[i][j] =temp\n",
        "  return result\n",
        "  \n",
        "  \n",
        "'''\n",
        "function multiple_np:\n",
        "paramater: N(double) --> array with size 100\n",
        "paramater: P(Double) --> array with size 1000\n",
        "return a N*P matrix --> 2d list\n",
        "'''\n",
        "import numpy as np\n",
        "def multiple_np (N,P):\n",
        "  # convert the array to np format array\n",
        "  nPerson_array = np.array(array_generate_helper(N))\n",
        "  nBrain_array  = np.array(array_generate_helper(P))\n",
        "  # convert the np_format array to np_matrix \n",
        "  nPerson_matrix = nPerson_array.reshape(-1)\n",
        "  nBrain_matrix = nBrain_array.reshape(-1,1)\n",
        "  #do the mutiply \n",
        "  result = np.multiply(nPerson_matrix,nBrain_matrix);\n",
        "  # print (result)\n",
        "  return result\n",
        "\n",
        "\n",
        "\n",
        "\n",
        "\n",
        "\n",
        "\n",
        "\n",
        "\n",
        "import time\n",
        "def Time_usage(N,P):\n",
        "  start=time.time()\n",
        "  multiple_np (N , P)\n",
        "  end=time.time()\n",
        "  print('Running time: %s Seconds'%(end-start))\n",
        "\n",
        "Time_usage(100,100000)"
      ],
      "execution_count": 0,
      "outputs": [
        {
          "output_type": "stream",
          "text": [
            "Running time: 0.0497899055480957 Seconds\n"
          ],
          "name": "stdout"
        }
      ]
    }
  ]
}